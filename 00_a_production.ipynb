{
 "cells": [
  {
   "cell_type": "code",
   "execution_count": null,
   "id": "classical-differential",
   "metadata": {},
   "outputs": [],
   "source": [
    "import pickle\n",
    "\n",
    "import modules.engineer as eng\n",
    "import modules.features as feat\n",
    "import modules.secretary as secr\n",
    "import modules.translator as trans\n",
    "from importlib import reload\n",
    "reload(eng)\n",
    "reload(feat)\n",
    "reload(secr)\n",
    "reload(trans)\n",
    "print()"
   ]
  },
  {
   "cell_type": "code",
   "execution_count": null,
   "id": "lightweight-dressing",
   "metadata": {},
   "outputs": [],
   "source": [
    "# Real-Sociedad\n",
    "list(trans.fbref_com_links().items())[-7:-6]"
   ]
  },
  {
   "cell_type": "code",
   "execution_count": null,
   "id": "compound-orbit",
   "metadata": {
    "scrolled": true
   },
   "outputs": [],
   "source": [
    "from steps.step_01 import DataScraper\n",
    "\n",
    "teams = trans.fbref_com_links().items()\n",
    "no_of_seasons = 1\n",
    "no_of_recursions = 15\n",
    "\n",
    "step_01 = DataScraper(teams, no_of_seasons, no_of_recursions)\n",
    "step_01.do()"
   ]
  },
  {
   "cell_type": "code",
   "execution_count": null,
   "id": "honey-peninsula",
   "metadata": {},
   "outputs": [],
   "source": [
    "from steps.step_02 import DataMonitor\n",
    "\n",
    "step_02 = DataMonitor()\n",
    "step_02.do()"
   ]
  },
  {
   "cell_type": "code",
   "execution_count": null,
   "id": "exceptional-external",
   "metadata": {
    "scrolled": true
   },
   "outputs": [],
   "source": [
    "from steps.step_03 import ProductionMaker\n",
    "\n",
    "starting_season = 2017\n",
    "\n",
    "step_03 = ProductionMaker(starting_season)\n",
    "step_03.do()"
   ]
  },
  {
   "cell_type": "code",
   "execution_count": null,
   "id": "sitting-equity",
   "metadata": {},
   "outputs": [],
   "source": [
    "from steps.step_04 import ProductionMonitor\n",
    "\n",
    "step_04 = ProductionMonitor()\n",
    "step_04.do()"
   ]
  },
  {
   "cell_type": "code",
   "execution_count": null,
   "id": "spatial-membrane",
   "metadata": {
    "scrolled": true
   },
   "outputs": [],
   "source": [
    "from sklearn.calibration import CalibratedClassifierCV\n",
    "from sklearn.decomposition import PCA\n",
    "from sklearn.discriminant_analysis import QuadraticDiscriminantAnalysis\n",
    "from sklearn.ensemble import AdaBoostClassifier, RandomForestClassifier\n",
    "from sklearn.feature_selection import RFECV, SelectFromModel\n",
    "from sklearn.gaussian_process import GaussianProcessClassifier\n",
    "from sklearn.gaussian_process.kernels import (RBF,\n",
    "                                              DotProduct,\n",
    "                                              Matern,\n",
    "                                              RationalQuadratic,\n",
    "                                              WhiteKernel)\n",
    "from sklearn.linear_model import LogisticRegression\n",
    "from sklearn.naive_bayes import GaussianNB\n",
    "from sklearn.neighbors import KNeighborsClassifier\n",
    "from sklearn.neural_network import MLPClassifier\n",
    "from sklearn.preprocessing import (KBinsDiscretizer,\n",
    "                                   MinMaxScaler,\n",
    "                                   StandardScaler)\n",
    "from sklearn.svm import SVC\n",
    "\n",
    "from steps.step_05 import ModelMaker \n",
    "\n",
    "sfm = SelectFromModel(RandomForestClassifier(n_estimators=10, random_state=42))\n",
    "cv = 3\n",
    "\n",
    "lrc = {'name': 'LogisticRegression',\n",
    "       'classifier': CalibratedClassifierCV(base_estimator=LogisticRegression(random_state=42,\n",
    "                                                                              max_iter=100000), cv=cv),\n",
    "       'param_grid': [{'preprocessor__num__scaling': [None],\n",
    "                       'selector': [sfm],\n",
    "                       'selector__threshold': [f\"{x/10}*median\" for x in range(1, 6, 2)],\n",
    "                       'classifier__base_estimator__C': [10**-x for x in range(0, 7, 2)],\n",
    "                       'classifier__base_estimator__class_weight': [None],\n",
    "                       }]}\n",
    "\n",
    "rfc = {'name': 'RandomForestClassifier',\n",
    "       'classifier': CalibratedClassifierCV(base_estimator=RandomForestClassifier(random_state=42), cv=cv),\n",
    "       'param_grid': [{'preprocessor__num__binning': [None],\n",
    "                       'selector': [sfm],\n",
    "                       'selector__threshold': [f\"{x/10}*median\" for x in range(5, 20, 7)],\n",
    "                       'classifier__base_estimator__n_estimators': [x for x in range(50, 201, 75)],\n",
    "                       'classifier__base_estimator__max_depth': [x for x in range(15, 86, 35)],\n",
    "                       'classifier__base_estimator__min_samples_leaf': [x for x in range(5, 36, 15)],\n",
    "                       'classifier__base_estimator__class_weight': [None],\n",
    "                       }]}\n",
    "\n",
    "mlp = {'name': 'MLPClassifier',\n",
    "       'classifier': CalibratedClassifierCV(base_estimator=MLPClassifier(random_state=42,\n",
    "                                                                         max_iter=10000), cv=cv),\n",
    "       'param_grid': [{'preprocessor__num__scaling': [None],\n",
    "                       'selector': [sfm],\n",
    "                       'selector__threshold': [f\"{x/10}*median\" for x in range(5, 20, 7)],\n",
    "                       'classifier__base_estimator__hidden_layer_sizes': [[10], [10, 10], [10, 10, 10]],\n",
    "                       'classifier__base_estimator__alpha': [1*10**-x for x in range(-1, 4, 2)],\n",
    "                       }]}\n",
    "\n",
    "knc = {'name': 'KNeighborsClassifier',\n",
    "       'classifier': CalibratedClassifierCV(base_estimator=KNeighborsClassifier(), cv=cv),\n",
    "       'param_grid': [{'preprocessor__num__scaling': [StandardScaler(), None],\n",
    "                       'preprocessor__num__binning': [None],\n",
    "                       'preprocessor__num__poly': [None],\n",
    "                       'selector': [sfm],\n",
    "                       'selector__threshold': [f\"{x/10}*median\" for x in range(1, 4, 1)],\n",
    "                       'classifier__base_estimator__n_neighbors': [200, 250, 300]\n",
    "                       }]}\n",
    "\n",
    "abc = {'name': 'AdaBoostClassifier',\n",
    "       'classifier': CalibratedClassifierCV(base_estimator=AdaBoostClassifier(), cv=cv),\n",
    "       'param_grid': [{'preprocessor__num__scaling': [StandardScaler(), None],\n",
    "                       'preprocessor__num__binning': [None],\n",
    "                       'preprocessor__num__poly': [None],\n",
    "                       'selector': [sfm],\n",
    "                       'selector__threshold': [f\"{x/1000}*median\" for x in range(25, 76, 25)],\n",
    "                       'classifier__base_estimator__n_estimators': [x for x in range(5, 15, 5)],\n",
    "                       'classifier__base_estimator__learning_rate': [x/10 for x in range(16, 21, 1)]\n",
    "                       }]}\n",
    "\n",
    "models = []\n",
    "models.append(lrc)\n",
    "models.append(rfc)\n",
    "models.append(mlp)\n",
    "models.append(knc)\n",
    "models.append(abc)\n",
    "\n",
    "step_05 = ModelMaker(secr.load_model(),\n",
    "                     feat.num_features(),\n",
    "                     feat.cat_features(),\n",
    "                     feat.label(),\n",
    "                     models,\n",
    "                     False)\n",
    "step_05.do()"
   ]
  },
  {
   "cell_type": "code",
   "execution_count": null,
   "id": "patient-locking",
   "metadata": {
    "scrolled": true
   },
   "outputs": [],
   "source": [
    "from steps.step_06 import GamesScraper\n",
    "\n",
    "matchweeks = {\"Bundesliga\": \"Spielwoche 33\",\n",
    "              \"Premier League\": \"Spielwoche 36\",\n",
    "              \"La Liga\": \"Spielwoche 36\",\n",
    "              \"Serie A\": \"Spielwoche 36\",\n",
    "              \"Ligue 1\": \"Spielwoche 36\"}\n",
    "\n",
    "step_06 = GamesScraper(matchweeks, \"2021-2022\", 2022)\n",
    "step_06.do()"
   ]
  },
  {
   "cell_type": "code",
   "execution_count": null,
   "id": "uniform-coating",
   "metadata": {},
   "outputs": [],
   "source": [
    "from steps.step_07 import PredictionMaker\n",
    "\n",
    "current_season = \"2021-2022\"\n",
    "\n",
    "step_07 = PredictionMaker(current_season)\n",
    "step_07.do()"
   ]
  },
  {
   "cell_type": "code",
   "execution_count": null,
   "id": "mature-newspaper",
   "metadata": {},
   "outputs": [],
   "source": [
    "from steps.step_08 import PredictionMonitor\n",
    "\n",
    "step_08 = PredictionMonitor()\n",
    "step_08.do()"
   ]
  },
  {
   "cell_type": "code",
   "execution_count": null,
   "id": "approximate-collar",
   "metadata": {},
   "outputs": [],
   "source": [
    "import pickle\n",
    "from steps.step_09 import PredictionMaker\n",
    "\n",
    "lrc = pickle.load(open('./sources/models/LogisticRegression.sav', 'rb'))\n",
    "rfc = pickle.load(open('./sources/models/RandomForestClassifier.sav', 'rb'))\n",
    "mlp = pickle.load(open('./sources/models/MLPClassifier.sav', 'rb'))\n",
    "knc = pickle.load(open('./sources/models/KNeighborsClassifier.sav', 'rb'))\n",
    "abc = pickle.load(open('./sources/models/AdaBoostClassifier.sav', 'rb'))\n",
    "\n",
    "models = {'lrc': lrc,\n",
    "          'rfc': rfc,\n",
    "          'mlp': mlp,\n",
    "          'knc': knc,\n",
    "          'abc': abc}\n",
    "\n",
    "step_09 = PredictionMaker(models)\n",
    "step_09.do()"
   ]
  }
 ],
 "metadata": {
  "kernelspec": {
   "display_name": "Python 3",
   "language": "python",
   "name": "python3"
  },
  "language_info": {
   "codemirror_mode": {
    "name": "ipython",
    "version": 3
   },
   "file_extension": ".py",
   "mimetype": "text/x-python",
   "name": "python",
   "nbconvert_exporter": "python",
   "pygments_lexer": "ipython3",
   "version": "3.8.10"
  }
 },
 "nbformat": 4,
 "nbformat_minor": 5
}
