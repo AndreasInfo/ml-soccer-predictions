{
 "cells": [
  {
   "cell_type": "code",
   "execution_count": 24,
   "id": "soviet-biology",
   "metadata": {
    "scrolled": false
   },
   "outputs": [],
   "source": [
    "import pandas as pd\n",
    "import modules.translator as trans\n",
    "import modules.helper as helper\n",
    "\n",
    "df = pd.DataFrame()\n",
    "\n",
    "for year in range(18, 23):\n",
    "    tmp = pd.read_csv(f\"./sources/data/squads/players_{year}.csv\",\n",
    "                     low_memory=False)\n",
    "    tmp['season'] = f\"20{year - 1}-20{year}\"\n",
    "    df = df.append(tmp)\n",
    "\n",
    "competitions = [\n",
    "    \"Spain Primera Division\",\n",
    "    \"German 1. Bundesliga\",\n",
    "    \"English Premier League\",\n",
    "    \"French Ligue 1\",\n",
    "    \"Italian Serie A\",\n",
    "]\n",
    "df = df.loc[df[\"league_name\"].isin(competitions)]\n",
    "\n",
    "to_drop = [\n",
    "    \"sofifa_id\",\n",
    "    \"player_url\",\n",
    "    \"long_name\",\n",
    "    \"dob\",\n",
    "    \"player_face_url\",\n",
    "    \"club_logo_url\",\n",
    "    \"club_flag_url\",\n",
    "    \"nation_logo_url\",\n",
    "    \"nation_flag_url\",\n",
    "    \"club_team_id\",\n",
    "    \"league_level\",\n",
    "    \"club_position\",\n",
    "    \"club_jersey_number\",\n",
    "    \"club_loaned_from\",\n",
    "    \"league_name\",\n",
    "    \"nationality_id\",\n",
    "    \"nationality_name\",\n",
    "    \"nation_team_id\",\n",
    "    \"nation_position\",\n",
    "    \"nation_jersey_number\",\n",
    "    \"preferred_foot\",\n",
    "    \"weak_foot\",\n",
    "    \"skill_moves\",\n",
    "    \"body_type\",\n",
    "    \"real_face\",\n",
    "    \"release_clause_eur\",\n",
    "    \"player_tags\",\n",
    "    \"player_traits\",\n",
    "    \"ls\",\n",
    "    \"st\",\n",
    "    \"rs\",\n",
    "    \"lw\",\n",
    "    \"lf\",\n",
    "    \"cf\",\n",
    "    \"rf\",\n",
    "    \"rw\",\n",
    "    \"lam\",\n",
    "    \"cam\",\n",
    "    \"ram\",\n",
    "    \"lm\",\n",
    "    \"lcm\",\n",
    "    \"cm\",\n",
    "    \"rcm\",\n",
    "    \"rm\",\n",
    "    \"lwb\",\n",
    "    \"ldm\",\n",
    "    \"cdm\",\n",
    "    \"rdm\",\n",
    "    \"rwb\",\n",
    "    \"lb\",\n",
    "    \"lcb\",\n",
    "    \"cb\",\n",
    "    \"rcb\",\n",
    "    \"rb\",\n",
    "    \"gk\",\n",
    "]\n",
    "df.drop(to_drop, axis=1, inplace=True)\n",
    "\n",
    "\n",
    "df[\"club_name\"].replace(\n",
    "    helper.invert_dictionary(trans.fifa_translations()),\n",
    "    inplace=True,\n",
    ")"
   ]
  },
  {
   "cell_type": "code",
   "execution_count": 25,
   "id": "departmental-guyana",
   "metadata": {
    "scrolled": true
   },
   "outputs": [],
   "source": [
    "def get_top_n(df, n):\n",
    "    res = pd.DataFrame()\n",
    "    for team in df['club_name'].unique():\n",
    "        for season in [f\"{x}-{x+1}\" for x in range(2017, 2023)]:\n",
    "            tmp = df.loc[(df['club_name'] == team) & (df['season'] == season)]\n",
    "            tmp = tmp.nlargest(n=n, columns=['value_eur', 'wage_eur'])\n",
    "            res = res.append(tmp)\n",
    "    res.reset_index(drop=True, inplace=True)\n",
    "    return res\n",
    "\n",
    "players_top_15 = get_top_n(df.loc[df['player_positions'] != \"GK\"], 15)\n",
    "goalies_top_1 = get_top_n(df.loc[df['player_positions'] == \"GK\"], 1)"
   ]
  },
  {
   "cell_type": "code",
   "execution_count": 26,
   "id": "iraqi-detective",
   "metadata": {},
   "outputs": [],
   "source": [
    "##### squad\n",
    "squad = players_top_15.append(goalies_top_1)\n",
    "squad = squad.groupby(['club_name', 'season']).mean().round(2)\n",
    "\n",
    "common_features = ['overall',\n",
    "                   'potential',\n",
    "                   'value_eur',\n",
    "                   'wage_eur',\n",
    "                   'age',\n",
    "                   'height_cm',\n",
    "                   'weight_kg',\n",
    "                   'club_contract_valid_until',\n",
    "                   'international_reputation']\n",
    "squad = squad.loc[:, common_features]\n",
    "\n",
    "# squad.reset_index(inplace=True)"
   ]
  },
  {
   "cell_type": "code",
   "execution_count": 27,
   "id": "disturbed-switch",
   "metadata": {},
   "outputs": [],
   "source": [
    "def drop_startswith(df, prefixes):\n",
    "    for prefix in prefixes:\n",
    "        df = df.loc[:, ~df.columns.str.startswith(prefix)]\n",
    "    return df"
   ]
  },
  {
   "cell_type": "code",
   "execution_count": 28,
   "id": "focal-malaysia",
   "metadata": {},
   "outputs": [],
   "source": [
    "##### players\n",
    "players = players_top_15\n",
    "players = players.groupby(['club_name', 'season']).mean().round(2)\n",
    "\n",
    "prefixes = ['goalkeeping']\n",
    "players = drop_startswith(players, prefixes)\n",
    "players.drop(common_features, axis=1, inplace=True, errors='ignore')\n",
    "\n",
    "# players.reset_index(inplace=True)"
   ]
  },
  {
   "cell_type": "code",
   "execution_count": 29,
   "id": "minimal-banking",
   "metadata": {},
   "outputs": [],
   "source": [
    "##### goalies\n",
    "goalies = goalies_top_1\n",
    "goalies = goalies.groupby(['club_name', 'season']).mean().round(2)\n",
    "\n",
    "prefixes = ['attacking',\n",
    "            'skill',\n",
    "            'movement',\n",
    "            'power',\n",
    "            'mentality',\n",
    "            'defending']\n",
    "goalies = drop_startswith(goalies, prefixes)\n",
    "goalies.dropna(axis=1, inplace=True)\n",
    "goalies.drop(common_features, axis=1, inplace=True, errors='ignore')\n",
    "\n",
    "# goalies.reset_index(inplace=True)"
   ]
  },
  {
   "cell_type": "code",
   "execution_count": 30,
   "id": "czech-granny",
   "metadata": {},
   "outputs": [],
   "source": [
    "result = squad.join(players).join(goalies).reset_index()\n",
    "# import modules.visualizer as vis\n",
    "# vis.info_me(df)\n",
    "# vis.describe_me(df)\n",
    "# vis.corr_me(df)"
   ]
  },
  {
   "cell_type": "code",
   "execution_count": 32,
   "id": "current-nursery",
   "metadata": {},
   "outputs": [],
   "source": [
    "result.to_csv(\"./sources/data/squads.csv\")"
   ]
  },
  {
   "cell_type": "code",
   "execution_count": null,
   "id": "connected-debut",
   "metadata": {},
   "outputs": [],
   "source": []
  },
  {
   "cell_type": "code",
   "execution_count": null,
   "id": "polished-formation",
   "metadata": {},
   "outputs": [],
   "source": []
  }
 ],
 "metadata": {
  "kernelspec": {
   "display_name": "Python 3",
   "language": "python",
   "name": "python3"
  },
  "language_info": {
   "codemirror_mode": {
    "name": "ipython",
    "version": 3
   },
   "file_extension": ".py",
   "mimetype": "text/x-python",
   "name": "python",
   "nbconvert_exporter": "python",
   "pygments_lexer": "ipython3",
   "version": "3.8.10"
  },
  "vscode": {
   "interpreter": {
    "hash": "31f2aee4e71d21fbe5cf8b01ff0e069b9275f58929596ceb00d14d90e3e16cd6"
   }
  }
 },
 "nbformat": 4,
 "nbformat_minor": 5
}
