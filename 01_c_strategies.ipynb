{
 "cells": [
  {
   "cell_type": "code",
   "execution_count": null,
   "id": "covered-arrangement",
   "metadata": {
    "scrolled": false
   },
   "outputs": [],
   "source": [
    "import datetime as dt\n",
    "import pandas as pd\n",
    "from os import listdir\n",
    "\n",
    "import modules.simulator as sim\n",
    "import modules.helper as helper\n",
    "from importlib import reload\n",
    "reload(sim)\n",
    "reload(helper)\n",
    "\n",
    "PATH = \"./tests/sources/archive/\"\n",
    "FOLDER = \"05_2019_each_week/\"\n",
    "DIRECTORY = f\"{PATH}{FOLDER}\"\n",
    "files = listdir(DIRECTORY)\n",
    "\n",
    "df = pd.DataFrame()\n",
    "for file in files:\n",
    "    tmp = pd.read_csv(f\"{DIRECTORY}{file}\", index_col=0)\n",
    "    df = df.append(tmp)\n",
    "df.reset_index(inplace=True, drop=True)\n",
    "\n",
    "classifiers = [\"lrc\", \"rfc\", \"mlp\", \"knc\", \"abc\"]\n",
    "\n",
    "competitions = [['Premier League', 'Bundesliga', 'La Liga', 'Serie A', 'Ligue 1'],\n",
    "                ['Premier League'],\n",
    "                ['Bundesliga'],\n",
    "                ['La Liga'],\n",
    "                ['Serie A'],\n",
    "                ['Ligue 1']]\n",
    "\n",
    "for classifier in classifiers:\n",
    "    for competition in competitions:\n",
    "        tmp = df.loc[df['Competition'].isin(competition)]\n",
    "        print(f\"{classifier}: {competition}:\")\n",
    "#         sim.millionaire(tmp, classifier, 1, 0.1)\n",
    "        sim.billionaire(tmp, classifier, 100, 10, 0)\n",
    "#         sim.addictive(tmp, classifier, 1, 5)\n",
    "        print()\n",
    "        pass\n",
    "\n",
    "# sim.bookie(df, 2, 1)\n"
   ]
  }
 ],
 "metadata": {
  "kernelspec": {
   "display_name": "Python 3",
   "language": "python",
   "name": "python3"
  },
  "language_info": {
   "codemirror_mode": {
    "name": "ipython",
    "version": 3
   },
   "file_extension": ".py",
   "mimetype": "text/x-python",
   "name": "python",
   "nbconvert_exporter": "python",
   "pygments_lexer": "ipython3",
   "version": "3.8.10"
  }
 },
 "nbformat": 4,
 "nbformat_minor": 5
}
